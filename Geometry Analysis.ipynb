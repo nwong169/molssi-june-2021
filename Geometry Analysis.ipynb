{
 "cells": [
  {
   "cell_type": "markdown",
   "metadata": {},
   "source": [
    "## Geometry analysis-Homework\n"
   ]
  },
  {
   "cell_type": "code",
   "execution_count": 1,
   "metadata": {},
   "outputs": [],
   "source": [
    "import os\n",
    "import numpy\n",
    "\n",
    "file_location = os.path.join('data', 'water.xyz')\n",
    "xyz_file = numpy.genfromtxt(fname=file_location, dtype='unicode', skip_header=2)"
   ]
  },
  {
   "cell_type": "code",
   "execution_count": 2,
   "metadata": {},
   "outputs": [
    {
     "name": "stdout",
     "output_type": "stream",
     "text": [
      "[['O' '0.000000' '-0.007156' '0.965491']\n",
      " ['H1' '-0.000000' '0.001486' '-0.003471']\n",
      " ['H2' '0.000000' '0.931026' '1.207929']]\n"
     ]
    }
   ],
   "source": [
    "print(xyz_file)"
   ]
  },
  {
   "cell_type": "code",
   "execution_count": 4,
   "metadata": {},
   "outputs": [],
   "source": [
    "symbols = xyz_file[:,0]\n",
    "coordinates = xyz_file[:,1:]\n",
    "coordinates = coordinates.astype(numpy.float)"
   ]
  },
  {
   "cell_type": "code",
   "execution_count": 5,
   "metadata": {},
   "outputs": [
    {
     "name": "stdout",
     "output_type": "stream",
     "text": [
      "['O' 'H1' 'H2']\n",
      "[[ 0.       -0.007156  0.965491]\n",
      " [-0.        0.001486 -0.003471]\n",
      " [ 0.        0.931026  1.207929]]\n"
     ]
    }
   ],
   "source": [
    "print(symbols)\n",
    "print(coordinates)"
   ]
  },
  {
   "cell_type": "code",
   "execution_count": 20,
   "metadata": {},
   "outputs": [
    {
     "name": "stdout",
     "output_type": "stream",
     "text": [
      "H1 to O : 0.969\n",
      "H2 to O : 0.969\n"
     ]
    }
   ],
   "source": [
    "num_atoms = len(symbols)\n",
    "\n",
    "for i in range(0,num_atoms):\n",
    "    for j in range(0, num_atoms):\n",
    "        if i>j:\n",
    "            x_distance = coordinates[i,0]- coordinates[j,0]\n",
    "            y_distance = coordinates[i,1]- coordinates[j,1]\n",
    "            z_distance = coordinates[i,2]- coordinates[j,2]\n",
    "            distance = numpy.sqrt(x_distance**2 + y_distance**2 + z_distance**2)\n",
    "            if distance < 1.5 and distance> 0  :  \n",
    "                #print(i,j)\n",
    "                print(F'{symbols[i]} to {symbols[j]} : {distance:.3f}')"
   ]
  },
  {
   "cell_type": "markdown",
   "metadata": {},
   "source": [
    "## Writing and Using Functions\n"
   ]
  },
  {
   "cell_type": "code",
   "execution_count": 21,
   "metadata": {},
   "outputs": [],
   "source": [
    "#def function_name(parameters):\n",
    "    #** body of your function **\n",
    "    #** write code using the parameters to calculate something **\n",
    "    #return value_to_return"
   ]
  },
  {
   "cell_type": "code",
   "execution_count": 27,
   "metadata": {},
   "outputs": [],
   "source": [
    "def calculate_distance(coords1, coords2):\n",
    "    x_distance = coords1[0] - coords2[0]\n",
    "    y_distance = coords1[1] - coords2[1]\n",
    "    z_distance = coords1[2] - coords2[2]\n",
    "    distance = numpy.sqrt(x_distance**2 +y_distance**2 + z_distance**2)\n",
    "    return distance"
   ]
  },
  {
   "cell_type": "markdown",
   "metadata": {},
   "source": [
    "# calculate_distance([0,0,0], [0,0,1])"
   ]
  },
  {
   "cell_type": "code",
   "execution_count": 28,
   "metadata": {},
   "outputs": [
    {
     "data": {
      "text/plain": [
       "1.0"
      ]
     },
     "execution_count": 28,
     "metadata": {},
     "output_type": "execute_result"
    }
   ],
   "source": [
    "calculate_distance([0,0,0],[0,0,1])"
   ]
  },
  {
   "cell_type": "code",
   "execution_count": 29,
   "metadata": {},
   "outputs": [
    {
     "name": "stdout",
     "output_type": "stream",
     "text": [
      "H1 to O : 0.969\n",
      "H2 to O : 0.969\n"
     ]
    }
   ],
   "source": [
    "num_atoms = len(symbols)\n",
    "\n",
    "for i in range(0,num_atoms):\n",
    "    for j in range(0, num_atoms):\n",
    "        if i>j:\n",
    "            distance = calculate_distance(coordinates[i], coordinates[j])\n",
    "            if bond_check(distance) is True:  \n",
    "                #print(i,j)\n",
    "                print(F'{symbols[i]} to {symbols[j]} : {distance:.3f}')"
   ]
  },
  {
   "cell_type": "code",
   "execution_count": 31,
   "metadata": {},
   "outputs": [],
   "source": [
    "# Write a function to check and see if a distance is a bond\n",
    "def bond_check(atom_distance):\n",
    "    if atom_distance > 0 and atom_distance < 1.5:\n",
    "        return True\n",
    "    else:\n",
    "        return False\n",
    "    "
   ]
  },
  {
   "cell_type": "code",
   "execution_count": 32,
   "metadata": {},
   "outputs": [
    {
     "data": {
      "text/plain": [
       "False"
      ]
     },
     "execution_count": 32,
     "metadata": {},
     "output_type": "execute_result"
    }
   ],
   "source": [
    "bond_check(1.7)"
   ]
  },
  {
   "cell_type": "code",
   "execution_count": 33,
   "metadata": {},
   "outputs": [
    {
     "data": {
      "text/plain": [
       "True"
      ]
     },
     "execution_count": 33,
     "metadata": {},
     "output_type": "execute_result"
    }
   ],
   "source": [
    "bond_check(1.2)"
   ]
  },
  {
   "cell_type": "code",
   "execution_count": 42,
   "metadata": {},
   "outputs": [],
   "source": [
    "# Modify the bond check function to take a minimum and a maximum length as an input\n",
    "def bond_check(atom_distance):\n",
    "    minimum = float(input('minimum:'))\n",
    "    maximum = float(input('maximum:'))\n",
    "    if atom_distance > minimum and atom_distance < maximum:\n",
    "        return True\n",
    "    else:\n",
    "        return False\n",
    "    "
   ]
  },
  {
   "cell_type": "code",
   "execution_count": 43,
   "metadata": {},
   "outputs": [
    {
     "name": "stdout",
     "output_type": "stream",
     "text": [
      "minimum:0\n",
      "maximum:1.5\n"
     ]
    },
    {
     "data": {
      "text/plain": [
       "True"
      ]
     },
     "execution_count": 43,
     "metadata": {},
     "output_type": "execute_result"
    }
   ],
   "source": [
    "bond_check(1.2)"
   ]
  },
  {
   "cell_type": "code",
   "execution_count": 50,
   "metadata": {},
   "outputs": [],
   "source": [
    "#alternitively\n",
    "def bond_check(atom_distance, minimum=0, maximum=1.5):\n",
    "    \"\"\"\n",
    "    Checks if adistanc eis abond based on a minimum and a maximum\n",
    "    Inputs: distance, minimum length for bond, maximum length for bond\n",
    "    Default: minimum: 0 angstroms, maximum: 1.5 angstroms\n",
    "    \"\"\"\n",
    "    if atom_distance > minimum and atom_distance < maximum:\n",
    "        return True\n",
    "    else:\n",
    "        return False"
   ]
  },
  {
   "cell_type": "code",
   "execution_count": 47,
   "metadata": {},
   "outputs": [
    {
     "data": {
      "text/plain": [
       "True"
      ]
     },
     "execution_count": 47,
     "metadata": {},
     "output_type": "execute_result"
    }
   ],
   "source": [
    "bond_check(1.2,0,1.5)"
   ]
  },
  {
   "cell_type": "code",
   "execution_count": 48,
   "metadata": {},
   "outputs": [
    {
     "data": {
      "text/plain": [
       "True"
      ]
     },
     "execution_count": 48,
     "metadata": {},
     "output_type": "execute_result"
    }
   ],
   "source": [
    "bond_check(1.2)"
   ]
  },
  {
   "cell_type": "code",
   "execution_count": 49,
   "metadata": {},
   "outputs": [
    {
     "name": "stdout",
     "output_type": "stream",
     "text": [
      "H1 to O : 0.969\n",
      "H2 to O : 0.969\n"
     ]
    }
   ],
   "source": [
    "num_atoms = len(symbols)\n",
    "\n",
    "for i in range(0,num_atoms):\n",
    "    for j in range(0, num_atoms):\n",
    "        if i>j:\n",
    "            distance = calculate_distance(coordinates[i], coordinates[j])\n",
    "            if bond_check(distance) is True:  \n",
    "                #print(i,j)\n",
    "                print(F'{symbols[i]} to {symbols[j]} : {distance:.3f}')"
   ]
  },
  {
   "cell_type": "code",
   "execution_count": 51,
   "metadata": {},
   "outputs": [
    {
     "name": "stdout",
     "output_type": "stream",
     "text": [
      "Help on function bond_check in module __main__:\n",
      "\n",
      "bond_check(atom_distance, minimum=0, maximum=1.5)\n",
      "    Checks if adistanc eis abond based on a minimum and a maximum\n",
      "    Inputs: distance, minimum length for bond, maximum length for bond\n",
      "    Default: minimum: 0 angstroms, maximum: 1.5 angstroms\n",
      "\n"
     ]
    }
   ],
   "source": [
    "help(bond_check)"
   ]
  },
  {
   "cell_type": "code",
   "execution_count": 52,
   "metadata": {},
   "outputs": [],
   "source": [
    "# Write a new function called open_xyz that opens and process an xyz file. Your function \n",
    "# should accept a filepath for the input. \n",
    "\n",
    "\n",
    "def open_xyz(filename):\n",
    "    \n",
    "    \"\"\"\n",
    "    This function opens a standard xyz file.\n",
    "    It returns the symbols as strings and the coordinates as floats.\n",
    "    \"\"\"\n",
    "    xyz_file = numpy.genfromtxt(fname=filename, skip_header=2, dtype='unicode')\n",
    "    symbols = xyz_file[:,0]\n",
    "    coord = xyzfile[:,1:]\n",
    "    coord = coord.astype(numpy.float)\n",
    "    return symbols, coord\n"
   ]
  },
  {
   "cell_type": "code",
   "execution_count": 61,
   "metadata": {},
   "outputs": [
    {
     "name": "stdout",
     "output_type": "stream",
     "text": [
      "O to H1 : 0.969\n",
      "O to H2 : 0.969\n"
     ]
    }
   ],
   "source": [
    "import os\n",
    "import numpy\n",
    "\n",
    "def calculate_distance(coords1, coords2):\n",
    "    x_distance = coords1[0] - coords2[0]\n",
    "    y_distance = coords1[1] - coords2[1]\n",
    "    z_distance = coords1[2] - coords2[2]\n",
    "    distance = numpy.sqrt(x_distance**2 +y_distance**2 + z_distance**2)\n",
    "    return distance\n",
    "\n",
    "def bond_check(atom_distance, minimum=0, maximum=1.5):\n",
    "    \"\"\"\n",
    "    Checks if adistanc eis abond based on a minimum and a maximum\n",
    "    Inputs: distance, minimum length for bond, maximum length for bond\n",
    "    Default: minimum: 0 angstroms, maximum: 1.5 angstroms\n",
    "    \"\"\"\n",
    "    if atom_distance > minimum and atom_distance < maximum:\n",
    "        return True\n",
    "    else:\n",
    "        return False\n",
    "    \n",
    "def open_xyz(filename):\n",
    "    \n",
    "    \"\"\"\n",
    "    This function opens a standard xyz file.\n",
    "    It returns the symbols as strings and the coordinates as floats.\n",
    "    \"\"\"\n",
    "    xyz_file = numpy.genfromtxt(fname=filename, skip_header=2, dtype='unicode')\n",
    "    symbols = xyz_file[:,0]\n",
    "    coord = xyz_file[:,1:]\n",
    "    coord = coord.astype(numpy.float)\n",
    "    return symbols, coord\n",
    "\n",
    "\n",
    "file_location = os.path.join('data', 'water.xyz')\n",
    "symbols, coord = open_xyz(file_location)\n",
    "num_atoms = len(symbols)\n",
    "for num1 in range(0,num_atoms):\n",
    "    for num2 in range(0,num_atoms):\n",
    "        if num1<num2:\n",
    "            distance = calculate_distance(coord[num1], coord[num2])\n",
    "            if bond_check(distance) is True:\n",
    "                print(F'{symbols[num1]} to {symbols[num2]} : {distance:.3f}')\n",
    "    \n",
    "    \n",
    "    \n",
    "    \n",
    "    \n",
    "    \n",
    "    \n",
    "    \n",
    "    "
   ]
  },
  {
   "cell_type": "code",
   "execution_count": null,
   "metadata": {},
   "outputs": [],
   "source": []
  }
 ],
 "metadata": {
  "kernelspec": {
   "display_name": "Python 3",
   "language": "python",
   "name": "python3"
  },
  "language_info": {
   "codemirror_mode": {
    "name": "ipython",
    "version": 3
   },
   "file_extension": ".py",
   "mimetype": "text/x-python",
   "name": "python",
   "nbconvert_exporter": "python",
   "pygments_lexer": "ipython3",
   "version": "3.8.3"
  }
 },
 "nbformat": 4,
 "nbformat_minor": 4
}
